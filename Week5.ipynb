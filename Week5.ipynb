{
  "nbformat": 4,
  "nbformat_minor": 0,
  "metadata": {
    "colab": {
      "provenance": [],
      "authorship_tag": "ABX9TyPRxXyd15UvRj9PeToaURHW",
      "include_colab_link": true
    },
    "kernelspec": {
      "name": "python3",
      "display_name": "Python 3"
    },
    "language_info": {
      "name": "python"
    }
  },
  "cells": [
    {
      "cell_type": "markdown",
      "metadata": {
        "id": "view-in-github",
        "colab_type": "text"
      },
      "source": [
        "<a href=\"https://colab.research.google.com/github/MuhammadAdhikaIsaNugraha/PVCK_Ganjil_2023/blob/main/Week5.ipynb\" target=\"_parent\"><img src=\"https://colab.research.google.com/assets/colab-badge.svg\" alt=\"Open In Colab\"/></a>"
      ]
    },
    {
      "cell_type": "markdown",
      "source": [
        "# **MODUL 5 – Operasi Aritmatika dan Logika - Gamma Correction, Image Depth, PSNR, Average Denoising, Image Masking**\n",
        "\n",
        "---\n",
        "\n"
      ],
      "metadata": {
        "id": "zZ3Ed1YydekQ"
      }
    },
    {
      "cell_type": "markdown",
      "source": [
        "> Muhammad Adhika Isa Nugraha\n",
        "\n",
        "> 12/2141720267\n",
        "\n",
        "> TI-3I\n",
        "\n",
        "---\n",
        "\n"
      ],
      "metadata": {
        "id": "beCC5UAjdk9d"
      }
    },
    {
      "cell_type": "markdown",
      "source": [
        "**PNSR**"
      ],
      "metadata": {
        "id": "ZJlSHiGNdv_r"
      }
    },
    {
      "cell_type": "code",
      "source": [
        "def PSNR(img1, img2):\n",
        "mse = np.mean((img1 - img2) ** 2)\n",
        "if(mse == 0): # MSE 0 maka tidak ada noise sama sekali, sehingga PSNR tidak memiliki arti\n",
        "return 100\n",
        "max_pixel = 255.0\n",
        "psnr = 20 * log10(max_pixel / sqrt(mse))\n",
        "return psnr"
      ],
      "metadata": {
        "id": "I6oOgZgFd8V8",
        "outputId": "e7e8cc2b-13db-4bb9-bc3d-951e9bd03d5d",
        "colab": {
          "base_uri": "https://localhost:8080/",
          "height": 144
        }
      },
      "execution_count": 1,
      "outputs": [
        {
          "output_type": "error",
          "ename": "IndentationError",
          "evalue": "ignored",
          "traceback": [
            "\u001b[0;36m  File \u001b[0;32m\"<ipython-input-1-17d2c9c2448f>\"\u001b[0;36m, line \u001b[0;32m2\u001b[0m\n\u001b[0;31m    mse = np.mean((img1 - img2) ** 2)\u001b[0m\n\u001b[0m    ^\u001b[0m\n\u001b[0;31mIndentationError\u001b[0m\u001b[0;31m:\u001b[0m expected an indented block after function definition on line 1\n"
          ]
        }
      ]
    },
    {
      "cell_type": "markdown",
      "source": [
        "# **Tugas Praktikum**"
      ],
      "metadata": {
        "id": "-sYt4demealQ"
      }
    },
    {
      "cell_type": "markdown",
      "source": [
        "1. Make a Gamma Correction according to the following instructions"
      ],
      "metadata": {
        "id": "zrAD7QH3ecUk"
      }
    },
    {
      "cell_type": "code",
      "source": [
        "print(' Gamma Correction pada citra ')\n",
        "print('----------------------------------')\n",
        "try:\n",
        "gamma = int(input('Masukkan nilai Gamma: '))\n",
        "except ValueError:\n",
        "print('Error, not a number')"
      ],
      "metadata": {
        "id": "m4Wdh8wUegSa",
        "outputId": "53940f38-282a-4e8c-cdf2-91ea17c12154",
        "colab": {
          "base_uri": "https://localhost:8080/",
          "height": 144
        }
      },
      "execution_count": 2,
      "outputs": [
        {
          "output_type": "error",
          "ename": "IndentationError",
          "evalue": "ignored",
          "traceback": [
            "\u001b[0;36m  File \u001b[0;32m\"<ipython-input-2-fc3f297048bc>\"\u001b[0;36m, line \u001b[0;32m4\u001b[0m\n\u001b[0;31m    gamma = int(input('Masukkan nilai Gamma: '))\u001b[0m\n\u001b[0m    ^\u001b[0m\n\u001b[0;31mIndentationError\u001b[0m\u001b[0;31m:\u001b[0m expected an indented block after 'try' statement on line 3\n"
          ]
        }
      ]
    }
  ]
}