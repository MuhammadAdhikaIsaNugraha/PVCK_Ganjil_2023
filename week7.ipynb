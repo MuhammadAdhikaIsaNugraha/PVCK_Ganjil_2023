{
  "nbformat": 4,
  "nbformat_minor": 0,
  "metadata": {
    "colab": {
      "provenance": [],
      "authorship_tag": "ABX9TyO5VFMRJzGZdHlPkcjwWWbr",
      "include_colab_link": true
    },
    "kernelspec": {
      "name": "python3",
      "display_name": "Python 3"
    },
    "language_info": {
      "name": "python"
    }
  },
  "cells": [
    {
      "cell_type": "markdown",
      "metadata": {
        "id": "view-in-github",
        "colab_type": "text"
      },
      "source": [
        "<a href=\"https://colab.research.google.com/github/MuhammadAdhikaIsaNugraha/PVCK_Ganjil_2023/blob/main/week7.ipynb\" target=\"_parent\"><img src=\"https://colab.research.google.com/assets/colab-badge.svg\" alt=\"Open In Colab\"/></a>"
      ]
    },
    {
      "cell_type": "markdown",
      "source": [
        "# **MODUL 7 – Spatial Filter: Low Pass Filter, High Pass Filter, Point Detection, Line Detection, Edge Detection**\n",
        "\n",
        "---\n",
        "\n"
      ],
      "metadata": {
        "id": "zZ3Ed1YydekQ"
      }
    },
    {
      "cell_type": "markdown",
      "source": [
        "> Muhammad Adhika Isa Nugraha\n",
        "\n",
        "> 12/2141720267\n",
        "\n",
        "> TI-3I\n",
        "\n",
        "---\n",
        "\n"
      ],
      "metadata": {
        "id": "beCC5UAjdk9d"
      }
    },
    {
      "cell_type": "markdown",
      "source": [
        "# **Tugas Praktikum**"
      ],
      "metadata": {
        "id": "whVHoNDmAYXF"
      }
    }
  ]
}